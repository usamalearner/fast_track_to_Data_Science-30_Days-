{
 "cells": [
  {
   "cell_type": "code",
   "execution_count": 2,
   "metadata": {},
   "outputs": [
    {
     "name": "stdout",
     "output_type": "stream",
     "text": [
      "z is divisible by 2\n"
     ]
    }
   ],
   "source": [
    "z = 6\n",
    "if z % 2 == 0 : # True\n",
    "    print(\"z is divisible by 2\") # Executed\n",
    "elif z % 3 == 0 :\n",
    "    print(\"z is divisible by 3\")\n",
    "else:\n",
    "    print(\"z is neither divisible by 2 nor by 3\")"
   ]
  },
  {
   "cell_type": "code",
   "execution_count": 3,
   "metadata": {
    "scrolled": true
   },
   "outputs": [
    {
     "name": "stdout",
     "output_type": "stream",
     "text": [
      "12.5\n",
      "3.125\n",
      "0.78125\n"
     ]
    }
   ],
   "source": [
    "#while loop\n",
    "error = 50.0\n",
    "while error > 1:\n",
    "    error = error / 4\n",
    "    print(error)"
   ]
  },
  {
   "cell_type": "code",
   "execution_count": 4,
   "metadata": {},
   "outputs": [
    {
     "name": "stdout",
     "output_type": "stream",
     "text": [
      "[1.73, 1.68, 1.71, 1.89]\n"
     ]
    }
   ],
   "source": [
    "fam = [1.73, 1.68, 1.71, 1.89]\n",
    "print(fam)"
   ]
  },
  {
   "cell_type": "code",
   "execution_count": 5,
   "metadata": {},
   "outputs": [
    {
     "name": "stdout",
     "output_type": "stream",
     "text": [
      "1.73\n",
      "1.68\n",
      "1.71\n",
      "1.89\n"
     ]
    }
   ],
   "source": [
    "fam = [1.73, 1.68, 1.71, 1.89]\n",
    "print(fam[0])\n",
    "print(fam[1])\n",
    "print(fam[2])\n",
    "print(fam[3])"
   ]
  },
  {
   "cell_type": "code",
   "execution_count": 12,
   "metadata": {},
   "outputs": [
    {
     "name": "stdout",
     "output_type": "stream",
     "text": [
      "1.73\n",
      "1.68\n",
      "1.71\n",
      "1.89\n"
     ]
    }
   ],
   "source": [
    "fam = [1.73, 1.68, 1.71, 1.89]\n",
    "for i in fam : #iterator and iterable\n",
    "    print(i)"
   ]
  },
  {
   "cell_type": "code",
   "execution_count": 7,
   "metadata": {},
   "outputs": [
    {
     "name": "stdout",
     "output_type": "stream",
     "text": [
      "index 0: 1.73\n",
      "index 1: 1.68\n",
      "index 2: 1.71\n",
      "index 3: 1.89\n"
     ]
    }
   ],
   "source": [
    "fam = [1.73, 1.68, 1.71, 1.89]\n",
    "for index, height in enumerate(fam) :\n",
    "    print(\"index \" + str(index) + \": \" + str(height))"
   ]
  },
  {
   "cell_type": "code",
   "execution_count": 8,
   "metadata": {},
   "outputs": [
    {
     "name": "stdout",
     "output_type": "stream",
     "text": [
      "F\n",
      "A\n",
      "M\n",
      "I\n",
      "L\n",
      "Y\n"
     ]
    }
   ],
   "source": [
    "for c in \"family\" :\n",
    "    print(c.capitalize())"
   ]
  },
  {
   "cell_type": "code",
   "execution_count": 13,
   "metadata": {},
   "outputs": [
    {
     "ename": "ValueError",
     "evalue": "too many values to unpack (expected 2)",
     "output_type": "error",
     "traceback": [
      "\u001b[1;31m---------------------------------------------------------------------------\u001b[0m",
      "\u001b[1;31mValueError\u001b[0m                                Traceback (most recent call last)",
      "\u001b[1;32m<ipython-input-13-466a87a6cc3f>\u001b[0m in \u001b[0;36m<module>\u001b[1;34m\u001b[0m\n\u001b[0;32m      1\u001b[0m \u001b[0mworld\u001b[0m \u001b[1;33m=\u001b[0m \u001b[1;33m{\u001b[0m \u001b[1;34m\"afghanistan\"\u001b[0m\u001b[1;33m:\u001b[0m\u001b[1;36m30.55\u001b[0m\u001b[1;33m,\u001b[0m\u001b[1;34m\"albania\"\u001b[0m\u001b[1;33m:\u001b[0m\u001b[1;36m2.77\u001b[0m\u001b[1;33m,\u001b[0m\u001b[1;34m\"algeria\"\u001b[0m\u001b[1;33m:\u001b[0m\u001b[1;36m39.21\u001b[0m \u001b[1;33m}\u001b[0m\u001b[1;33m\u001b[0m\u001b[1;33m\u001b[0m\u001b[0m\n\u001b[1;32m----> 2\u001b[1;33m \u001b[1;32mfor\u001b[0m \u001b[0mkey\u001b[0m\u001b[1;33m,\u001b[0m \u001b[0mvalue\u001b[0m \u001b[1;32min\u001b[0m \u001b[0mworld\u001b[0m\u001b[1;33m:\u001b[0m\u001b[1;33m\u001b[0m\u001b[1;33m\u001b[0m\u001b[0m\n\u001b[0m\u001b[0;32m      3\u001b[0m     \u001b[0mprint\u001b[0m\u001b[1;33m(\u001b[0m\u001b[0mkey\u001b[0m \u001b[1;33m+\u001b[0m \u001b[1;34m\" -- \"\u001b[0m \u001b[1;33m+\u001b[0m \u001b[0mstr\u001b[0m\u001b[1;33m(\u001b[0m\u001b[0mvalue\u001b[0m\u001b[1;33m)\u001b[0m\u001b[1;33m)\u001b[0m\u001b[1;33m\u001b[0m\u001b[1;33m\u001b[0m\u001b[0m\n",
      "\u001b[1;31mValueError\u001b[0m: too many values to unpack (expected 2)"
     ]
    }
   ],
   "source": [
    "world = { \"afghanistan\":30.55,\"albania\":2.77,\"algeria\":39.21 }\n",
    "for key, value in world:\n",
    "    print(key + \" -- \" + str(value))"
   ]
  },
  {
   "cell_type": "code",
   "execution_count": 11,
   "metadata": {},
   "outputs": [
    {
     "name": "stdout",
     "output_type": "stream",
     "text": [
      "afghanistan -- 30.55\n",
      "albania -- 2.77\n",
      "algeria -- 39.21\n"
     ]
    }
   ],
   "source": [
    "world = { \"afghanistan\":30.55,\"albania\":2.77,\"algeria\":39.21 }\n",
    "for key, value in world.items():\n",
    "    print(key + \" -- \" + str(value))"
   ]
  },
  {
   "cell_type": "code",
   "execution_count": 14,
   "metadata": {},
   "outputs": [
    {
     "name": "stdout",
     "output_type": "stream",
     "text": [
      "afghanistan -- 30.55\n",
      "albania -- 2.77\n",
      "algeria -- 39.21\n"
     ]
    }
   ],
   "source": [
    "world = { \"afghanistan\":30.55,\"albania\":2.77,\"algeria\":39.21 }\n",
    "for k, v in world.items() :\n",
    "    print(k + \" -- \" + str(v))"
   ]
  },
  {
   "cell_type": "code",
   "execution_count": 15,
   "metadata": {},
   "outputs": [
    {
     "name": "stdout",
     "output_type": "stream",
     "text": [
      "21.85171572722109\n",
      "20.97505668934241\n",
      "21.750282138093777\n",
      "24.74734749867025\n",
      "21.44127836209856\n"
     ]
    }
   ],
   "source": [
    "import numpy as np\n",
    "np_height = np.array([1.73, 1.68, 1.71, 1.89, 1.79])\n",
    "np_weight = np.array([65.4, 59.2, 63.6, 88.4, 68.7])\n",
    "bmi = np_weight / np_height ** 2\n",
    "for val in bmi :\n",
    "    print(val)"
   ]
  },
  {
   "cell_type": "code",
   "execution_count": 16,
   "metadata": {},
   "outputs": [
    {
     "name": "stdout",
     "output_type": "stream",
     "text": [
      "[1.73 1.68 1.71 1.89 1.79]\n",
      "[65.4 59.2 63.6 88.4 68.7]\n"
     ]
    }
   ],
   "source": [
    "import numpy as np\n",
    "np_height = np.array([1.73, 1.68, 1.71, 1.89, 1.79])\n",
    "np_weight = np.array([65.4, 59.2, 63.6, 88.4, 68.7])\n",
    "meas = np.array([np_height, np_weight])\n",
    "for val in meas :\n",
    "    print(val)"
   ]
  },
  {
   "cell_type": "code",
   "execution_count": 17,
   "metadata": {},
   "outputs": [
    {
     "name": "stdout",
     "output_type": "stream",
     "text": [
      "1.73\n",
      "1.68\n",
      "1.71\n",
      "1.89\n",
      "1.79\n",
      "65.4\n",
      "59.2\n",
      "63.6\n",
      "88.4\n",
      "68.7\n"
     ]
    }
   ],
   "source": [
    "import numpy as np\n",
    "np_height = np.array([1.73, 1.68, 1.71, 1.89, 1.79])\n",
    "np_weight = np.array([65.4, 59.2, 63.6, 88.4, 68.7])\n",
    "meas = np.array([np_height, np_weight])\n",
    "for val in np.nditer(meas) :\n",
    "    print(val)"
   ]
  },
  {
   "cell_type": "code",
   "execution_count": 19,
   "metadata": {},
   "outputs": [],
   "source": [
    "import pandas as pd\n",
    "brics = pd.read_csv(\"brics.csv\", index_col=0)"
   ]
  },
  {
   "cell_type": "code",
   "execution_count": 20,
   "metadata": {},
   "outputs": [
    {
     "data": {
      "text/html": [
       "<div>\n",
       "<style scoped>\n",
       "    .dataframe tbody tr th:only-of-type {\n",
       "        vertical-align: middle;\n",
       "    }\n",
       "\n",
       "    .dataframe tbody tr th {\n",
       "        vertical-align: top;\n",
       "    }\n",
       "\n",
       "    .dataframe thead th {\n",
       "        text-align: right;\n",
       "    }\n",
       "</style>\n",
       "<table border=\"1\" class=\"dataframe\">\n",
       "  <thead>\n",
       "    <tr style=\"text-align: right;\">\n",
       "      <th></th>\n",
       "      <th>country</th>\n",
       "      <th>capital</th>\n",
       "      <th>area</th>\n",
       "      <th>population</th>\n",
       "    </tr>\n",
       "  </thead>\n",
       "  <tbody>\n",
       "    <tr>\n",
       "      <th>BR</th>\n",
       "      <td>Brazil</td>\n",
       "      <td>Brasilia</td>\n",
       "      <td>8.516</td>\n",
       "      <td>200.40</td>\n",
       "    </tr>\n",
       "    <tr>\n",
       "      <th>RU</th>\n",
       "      <td>Russia</td>\n",
       "      <td>Moscow</td>\n",
       "      <td>17.100</td>\n",
       "      <td>143.50</td>\n",
       "    </tr>\n",
       "    <tr>\n",
       "      <th>IN</th>\n",
       "      <td>India</td>\n",
       "      <td>New Delhi</td>\n",
       "      <td>3.286</td>\n",
       "      <td>1252.00</td>\n",
       "    </tr>\n",
       "    <tr>\n",
       "      <th>CH</th>\n",
       "      <td>China</td>\n",
       "      <td>Beijing</td>\n",
       "      <td>9.597</td>\n",
       "      <td>1357.00</td>\n",
       "    </tr>\n",
       "    <tr>\n",
       "      <th>SA</th>\n",
       "      <td>South Africa</td>\n",
       "      <td>Pretoria</td>\n",
       "      <td>1.221</td>\n",
       "      <td>52.98</td>\n",
       "    </tr>\n",
       "  </tbody>\n",
       "</table>\n",
       "</div>"
      ],
      "text/plain": [
       "         country    capital    area  population\n",
       "BR        Brazil   Brasilia   8.516      200.40\n",
       "RU        Russia     Moscow  17.100      143.50\n",
       "IN         India  New Delhi   3.286     1252.00\n",
       "CH         China    Beijing   9.597     1357.00\n",
       "SA  South Africa   Pretoria   1.221       52.98"
      ]
     },
     "execution_count": 20,
     "metadata": {},
     "output_type": "execute_result"
    }
   ],
   "source": [
    "brics"
   ]
  },
  {
   "cell_type": "code",
   "execution_count": 21,
   "metadata": {},
   "outputs": [
    {
     "name": "stdout",
     "output_type": "stream",
     "text": [
      "BR\n",
      "country         Brazil\n",
      "capital       Brasilia\n",
      "area             8.516\n",
      "population       200.4\n",
      "Name: BR, dtype: object\n",
      "RU\n",
      "country       Russia\n",
      "capital       Moscow\n",
      "area            17.1\n",
      "population     143.5\n",
      "Name: RU, dtype: object\n",
      "IN\n",
      "country           India\n",
      "capital       New Delhi\n",
      "area              3.286\n",
      "population         1252\n",
      "Name: IN, dtype: object\n",
      "CH\n",
      "country         China\n",
      "capital       Beijing\n",
      "area            9.597\n",
      "population       1357\n",
      "Name: CH, dtype: object\n",
      "SA\n",
      "country       South Africa\n",
      "capital           Pretoria\n",
      "area                 1.221\n",
      "population           52.98\n",
      "Name: SA, dtype: object\n"
     ]
    }
   ],
   "source": [
    "for lab, row in brics.iterrows():\n",
    "    print(lab)\n",
    "    print(row)"
   ]
  },
  {
   "cell_type": "code",
   "execution_count": 22,
   "metadata": {},
   "outputs": [
    {
     "name": "stdout",
     "output_type": "stream",
     "text": [
      "BR: Brasilia\n",
      "RU: Moscow\n",
      "IN: New Delhi\n",
      "CH: Beijing\n",
      "SA: Pretoria\n"
     ]
    }
   ],
   "source": [
    "import pandas as pd\n",
    "brics = pd.read_csv(\"brics.csv\", index_col = 0)\n",
    "for lab, row in brics.iterrows():\n",
    "    print(lab + \": \" + row[\"capital\"])"
   ]
  },
  {
   "cell_type": "code",
   "execution_count": 23,
   "metadata": {},
   "outputs": [
    {
     "name": "stdout",
     "output_type": "stream",
     "text": [
      "         country    capital    area  population  name_length\n",
      "BR        Brazil   Brasilia   8.516      200.40          6.0\n",
      "RU        Russia     Moscow  17.100      143.50          NaN\n",
      "IN         India  New Delhi   3.286     1252.00          NaN\n",
      "CH         China    Beijing   9.597     1357.00          NaN\n",
      "SA  South Africa   Pretoria   1.221       52.98          NaN\n",
      "         country    capital    area  population  name_length\n",
      "BR        Brazil   Brasilia   8.516      200.40          6.0\n",
      "RU        Russia     Moscow  17.100      143.50          6.0\n",
      "IN         India  New Delhi   3.286     1252.00          NaN\n",
      "CH         China    Beijing   9.597     1357.00          NaN\n",
      "SA  South Africa   Pretoria   1.221       52.98          NaN\n",
      "         country    capital    area  population  name_length\n",
      "BR        Brazil   Brasilia   8.516      200.40          6.0\n",
      "RU        Russia     Moscow  17.100      143.50          6.0\n",
      "IN         India  New Delhi   3.286     1252.00          5.0\n",
      "CH         China    Beijing   9.597     1357.00          NaN\n",
      "SA  South Africa   Pretoria   1.221       52.98          NaN\n",
      "         country    capital    area  population  name_length\n",
      "BR        Brazil   Brasilia   8.516      200.40          6.0\n",
      "RU        Russia     Moscow  17.100      143.50          6.0\n",
      "IN         India  New Delhi   3.286     1252.00          5.0\n",
      "CH         China    Beijing   9.597     1357.00          5.0\n",
      "SA  South Africa   Pretoria   1.221       52.98          NaN\n",
      "         country    capital    area  population  name_length\n",
      "BR        Brazil   Brasilia   8.516      200.40          6.0\n",
      "RU        Russia     Moscow  17.100      143.50          6.0\n",
      "IN         India  New Delhi   3.286     1252.00          5.0\n",
      "CH         China    Beijing   9.597     1357.00          5.0\n",
      "SA  South Africa   Pretoria   1.221       52.98         12.0\n"
     ]
    }
   ],
   "source": [
    "import pandas as pd\n",
    "brics = pd.read_csv(\"brics.csv\", index_col = 0)\n",
    "for lab, row in brics.iterrows() :\n",
    "# - Creating Series on every iteration\n",
    "    brics.loc[lab, \"name_length\"] = len(row[\"country\"])\n",
    "    print(brics)\n",
    "    \n",
    "# .loc  or   .iloc    "
   ]
  },
  {
   "cell_type": "code",
   "execution_count": 24,
   "metadata": {},
   "outputs": [
    {
     "name": "stdout",
     "output_type": "stream",
     "text": [
      "         country    capital    area  population  name_length\n",
      "BR        Brazil   Brasilia   8.516      200.40            6\n",
      "RU        Russia     Moscow  17.100      143.50            6\n",
      "IN         India  New Delhi   3.286     1252.00            5\n",
      "CH         China    Beijing   9.597     1357.00            5\n",
      "SA  South Africa   Pretoria   1.221       52.98           12\n"
     ]
    }
   ],
   "source": [
    "import pandas as pd\n",
    "brics = pd.read_csv(\"brics.csv\", index_col = 0)\n",
    "brics[\"name_length\"] = brics[\"country\"].apply(len)\n",
    "print(brics)"
   ]
  },
  {
   "cell_type": "code",
   "execution_count": null,
   "metadata": {},
   "outputs": [],
   "source": []
  }
 ],
 "metadata": {
  "kernelspec": {
   "display_name": "Python 3",
   "language": "python",
   "name": "python3"
  },
  "language_info": {
   "codemirror_mode": {
    "name": "ipython",
    "version": 3
   },
   "file_extension": ".py",
   "mimetype": "text/x-python",
   "name": "python",
   "nbconvert_exporter": "python",
   "pygments_lexer": "ipython3",
   "version": "3.7.3"
  }
 },
 "nbformat": 4,
 "nbformat_minor": 2
}
